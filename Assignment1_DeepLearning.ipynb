{
  "nbformat": 4,
  "nbformat_minor": 0,
  "metadata": {
    "colab": {
      "name": "Athreya's Copy of DL Assignment draft.ipynb",
      "provenance": []
    },
    "kernelspec": {
      "name": "python3",
      "display_name": "Python 3"
    },
    "language_info": {
      "name": "python"
    },
    "accelerator": "GPU",
    "widgets": {
      "application/vnd.jupyter.widget-state+json": {
        "78be4906d5e04c9f9dff65ab94620d2e": {
          "model_module": "@jupyter-widgets/controls",
          "model_name": "HBoxModel",
          "model_module_version": "1.5.0",
          "state": {
            "_view_name": "HBoxView",
            "_dom_classes": [],
            "_model_name": "HBoxModel",
            "_view_module": "@jupyter-widgets/controls",
            "_model_module_version": "1.5.0",
            "_view_count": null,
            "_view_module_version": "1.5.0",
            "box_style": "",
            "layout": "IPY_MODEL_5ea583c0117f42a496fb0faf0e8df3cd",
            "_model_module": "@jupyter-widgets/controls",
            "children": [
              "IPY_MODEL_da4c9361b4ec46b7b8ea3ce37cd2777c",
              "IPY_MODEL_3f6a22ddf47540278617ce030d83b922",
              "IPY_MODEL_b2afeec0182c43b6acb6291bd368ec94"
            ]
          }
        },
        "5ea583c0117f42a496fb0faf0e8df3cd": {
          "model_module": "@jupyter-widgets/base",
          "model_name": "LayoutModel",
          "model_module_version": "1.2.0",
          "state": {
            "_view_name": "LayoutView",
            "grid_template_rows": null,
            "right": null,
            "justify_content": null,
            "_view_module": "@jupyter-widgets/base",
            "overflow": null,
            "_model_module_version": "1.2.0",
            "_view_count": null,
            "flex_flow": null,
            "width": null,
            "min_width": null,
            "border": null,
            "align_items": null,
            "bottom": null,
            "_model_module": "@jupyter-widgets/base",
            "top": null,
            "grid_column": null,
            "overflow_y": null,
            "overflow_x": null,
            "grid_auto_flow": null,
            "grid_area": null,
            "grid_template_columns": null,
            "flex": null,
            "_model_name": "LayoutModel",
            "justify_items": null,
            "grid_row": null,
            "max_height": null,
            "align_content": null,
            "visibility": null,
            "align_self": null,
            "height": null,
            "min_height": null,
            "padding": null,
            "grid_auto_rows": null,
            "grid_gap": null,
            "max_width": null,
            "order": null,
            "_view_module_version": "1.2.0",
            "grid_template_areas": null,
            "object_position": null,
            "object_fit": null,
            "grid_auto_columns": null,
            "margin": null,
            "display": null,
            "left": null
          }
        },
        "da4c9361b4ec46b7b8ea3ce37cd2777c": {
          "model_module": "@jupyter-widgets/controls",
          "model_name": "HTMLModel",
          "model_module_version": "1.5.0",
          "state": {
            "_view_name": "HTMLView",
            "style": "IPY_MODEL_fd44a3ec12e846e6a6e0ccb79fe8a6ef",
            "_dom_classes": [],
            "description": "",
            "_model_name": "HTMLModel",
            "placeholder": "​",
            "_view_module": "@jupyter-widgets/controls",
            "_model_module_version": "1.5.0",
            "value": "",
            "_view_count": null,
            "_view_module_version": "1.5.0",
            "description_tooltip": null,
            "_model_module": "@jupyter-widgets/controls",
            "layout": "IPY_MODEL_ae4f5deb9f5541388563cfca7cd8a2c9"
          }
        },
        "3f6a22ddf47540278617ce030d83b922": {
          "model_module": "@jupyter-widgets/controls",
          "model_name": "FloatProgressModel",
          "model_module_version": "1.5.0",
          "state": {
            "_view_name": "ProgressView",
            "style": "IPY_MODEL_fd66185f18904badb8850b0b18a8623b",
            "_dom_classes": [],
            "description": "",
            "_model_name": "FloatProgressModel",
            "bar_style": "success",
            "max": 170498071,
            "_view_module": "@jupyter-widgets/controls",
            "_model_module_version": "1.5.0",
            "value": 170498071,
            "_view_count": null,
            "_view_module_version": "1.5.0",
            "orientation": "horizontal",
            "min": 0,
            "description_tooltip": null,
            "_model_module": "@jupyter-widgets/controls",
            "layout": "IPY_MODEL_6905c94c71504b5ab177d4fcb7584a92"
          }
        },
        "b2afeec0182c43b6acb6291bd368ec94": {
          "model_module": "@jupyter-widgets/controls",
          "model_name": "HTMLModel",
          "model_module_version": "1.5.0",
          "state": {
            "_view_name": "HTMLView",
            "style": "IPY_MODEL_d8e5f632115e4697b523b60245fb4e4f",
            "_dom_classes": [],
            "description": "",
            "_model_name": "HTMLModel",
            "placeholder": "​",
            "_view_module": "@jupyter-widgets/controls",
            "_model_module_version": "1.5.0",
            "value": " 170499072/? [00:03&lt;00:00, 61324338.76it/s]",
            "_view_count": null,
            "_view_module_version": "1.5.0",
            "description_tooltip": null,
            "_model_module": "@jupyter-widgets/controls",
            "layout": "IPY_MODEL_5aad9ef0632c493bbbf3300fbd823afb"
          }
        },
        "fd44a3ec12e846e6a6e0ccb79fe8a6ef": {
          "model_module": "@jupyter-widgets/controls",
          "model_name": "DescriptionStyleModel",
          "model_module_version": "1.5.0",
          "state": {
            "_view_name": "StyleView",
            "_model_name": "DescriptionStyleModel",
            "description_width": "",
            "_view_module": "@jupyter-widgets/base",
            "_model_module_version": "1.5.0",
            "_view_count": null,
            "_view_module_version": "1.2.0",
            "_model_module": "@jupyter-widgets/controls"
          }
        },
        "ae4f5deb9f5541388563cfca7cd8a2c9": {
          "model_module": "@jupyter-widgets/base",
          "model_name": "LayoutModel",
          "model_module_version": "1.2.0",
          "state": {
            "_view_name": "LayoutView",
            "grid_template_rows": null,
            "right": null,
            "justify_content": null,
            "_view_module": "@jupyter-widgets/base",
            "overflow": null,
            "_model_module_version": "1.2.0",
            "_view_count": null,
            "flex_flow": null,
            "width": null,
            "min_width": null,
            "border": null,
            "align_items": null,
            "bottom": null,
            "_model_module": "@jupyter-widgets/base",
            "top": null,
            "grid_column": null,
            "overflow_y": null,
            "overflow_x": null,
            "grid_auto_flow": null,
            "grid_area": null,
            "grid_template_columns": null,
            "flex": null,
            "_model_name": "LayoutModel",
            "justify_items": null,
            "grid_row": null,
            "max_height": null,
            "align_content": null,
            "visibility": null,
            "align_self": null,
            "height": null,
            "min_height": null,
            "padding": null,
            "grid_auto_rows": null,
            "grid_gap": null,
            "max_width": null,
            "order": null,
            "_view_module_version": "1.2.0",
            "grid_template_areas": null,
            "object_position": null,
            "object_fit": null,
            "grid_auto_columns": null,
            "margin": null,
            "display": null,
            "left": null
          }
        },
        "fd66185f18904badb8850b0b18a8623b": {
          "model_module": "@jupyter-widgets/controls",
          "model_name": "ProgressStyleModel",
          "model_module_version": "1.5.0",
          "state": {
            "_view_name": "StyleView",
            "_model_name": "ProgressStyleModel",
            "description_width": "",
            "_view_module": "@jupyter-widgets/base",
            "_model_module_version": "1.5.0",
            "_view_count": null,
            "_view_module_version": "1.2.0",
            "bar_color": null,
            "_model_module": "@jupyter-widgets/controls"
          }
        },
        "6905c94c71504b5ab177d4fcb7584a92": {
          "model_module": "@jupyter-widgets/base",
          "model_name": "LayoutModel",
          "model_module_version": "1.2.0",
          "state": {
            "_view_name": "LayoutView",
            "grid_template_rows": null,
            "right": null,
            "justify_content": null,
            "_view_module": "@jupyter-widgets/base",
            "overflow": null,
            "_model_module_version": "1.2.0",
            "_view_count": null,
            "flex_flow": null,
            "width": null,
            "min_width": null,
            "border": null,
            "align_items": null,
            "bottom": null,
            "_model_module": "@jupyter-widgets/base",
            "top": null,
            "grid_column": null,
            "overflow_y": null,
            "overflow_x": null,
            "grid_auto_flow": null,
            "grid_area": null,
            "grid_template_columns": null,
            "flex": null,
            "_model_name": "LayoutModel",
            "justify_items": null,
            "grid_row": null,
            "max_height": null,
            "align_content": null,
            "visibility": null,
            "align_self": null,
            "height": null,
            "min_height": null,
            "padding": null,
            "grid_auto_rows": null,
            "grid_gap": null,
            "max_width": null,
            "order": null,
            "_view_module_version": "1.2.0",
            "grid_template_areas": null,
            "object_position": null,
            "object_fit": null,
            "grid_auto_columns": null,
            "margin": null,
            "display": null,
            "left": null
          }
        },
        "d8e5f632115e4697b523b60245fb4e4f": {
          "model_module": "@jupyter-widgets/controls",
          "model_name": "DescriptionStyleModel",
          "model_module_version": "1.5.0",
          "state": {
            "_view_name": "StyleView",
            "_model_name": "DescriptionStyleModel",
            "description_width": "",
            "_view_module": "@jupyter-widgets/base",
            "_model_module_version": "1.5.0",
            "_view_count": null,
            "_view_module_version": "1.2.0",
            "_model_module": "@jupyter-widgets/controls"
          }
        },
        "5aad9ef0632c493bbbf3300fbd823afb": {
          "model_module": "@jupyter-widgets/base",
          "model_name": "LayoutModel",
          "model_module_version": "1.2.0",
          "state": {
            "_view_name": "LayoutView",
            "grid_template_rows": null,
            "right": null,
            "justify_content": null,
            "_view_module": "@jupyter-widgets/base",
            "overflow": null,
            "_model_module_version": "1.2.0",
            "_view_count": null,
            "flex_flow": null,
            "width": null,
            "min_width": null,
            "border": null,
            "align_items": null,
            "bottom": null,
            "_model_module": "@jupyter-widgets/base",
            "top": null,
            "grid_column": null,
            "overflow_y": null,
            "overflow_x": null,
            "grid_auto_flow": null,
            "grid_area": null,
            "grid_template_columns": null,
            "flex": null,
            "_model_name": "LayoutModel",
            "justify_items": null,
            "grid_row": null,
            "max_height": null,
            "align_content": null,
            "visibility": null,
            "align_self": null,
            "height": null,
            "min_height": null,
            "padding": null,
            "grid_auto_rows": null,
            "grid_gap": null,
            "max_width": null,
            "order": null,
            "_view_module_version": "1.2.0",
            "grid_template_areas": null,
            "object_position": null,
            "object_fit": null,
            "grid_auto_columns": null,
            "margin": null,
            "display": null,
            "left": null
          }
        },
        "15e4cb76dd184f04ac6b1aa115c91709": {
          "model_module": "@jupyter-widgets/controls",
          "model_name": "HBoxModel",
          "model_module_version": "1.5.0",
          "state": {
            "_view_name": "HBoxView",
            "_dom_classes": [],
            "_model_name": "HBoxModel",
            "_view_module": "@jupyter-widgets/controls",
            "_model_module_version": "1.5.0",
            "_view_count": null,
            "_view_module_version": "1.5.0",
            "box_style": "",
            "layout": "IPY_MODEL_31bb66dc712948de9748691731e75223",
            "_model_module": "@jupyter-widgets/controls",
            "children": [
              "IPY_MODEL_18fd3438ec73474d8a398d5cdf98340a",
              "IPY_MODEL_87e57c4a47f240d09261ff89894de530",
              "IPY_MODEL_837c6bec7d984b2e8fe6f0b59f84bc38"
            ]
          }
        },
        "31bb66dc712948de9748691731e75223": {
          "model_module": "@jupyter-widgets/base",
          "model_name": "LayoutModel",
          "model_module_version": "1.2.0",
          "state": {
            "_view_name": "LayoutView",
            "grid_template_rows": null,
            "right": null,
            "justify_content": null,
            "_view_module": "@jupyter-widgets/base",
            "overflow": null,
            "_model_module_version": "1.2.0",
            "_view_count": null,
            "flex_flow": null,
            "width": null,
            "min_width": null,
            "border": null,
            "align_items": null,
            "bottom": null,
            "_model_module": "@jupyter-widgets/base",
            "top": null,
            "grid_column": null,
            "overflow_y": null,
            "overflow_x": null,
            "grid_auto_flow": null,
            "grid_area": null,
            "grid_template_columns": null,
            "flex": null,
            "_model_name": "LayoutModel",
            "justify_items": null,
            "grid_row": null,
            "max_height": null,
            "align_content": null,
            "visibility": null,
            "align_self": null,
            "height": null,
            "min_height": null,
            "padding": null,
            "grid_auto_rows": null,
            "grid_gap": null,
            "max_width": null,
            "order": null,
            "_view_module_version": "1.2.0",
            "grid_template_areas": null,
            "object_position": null,
            "object_fit": null,
            "grid_auto_columns": null,
            "margin": null,
            "display": null,
            "left": null
          }
        },
        "18fd3438ec73474d8a398d5cdf98340a": {
          "model_module": "@jupyter-widgets/controls",
          "model_name": "HTMLModel",
          "model_module_version": "1.5.0",
          "state": {
            "_view_name": "HTMLView",
            "style": "IPY_MODEL_c92aa82e67d34696aa100d3e0d6851de",
            "_dom_classes": [],
            "description": "",
            "_model_name": "HTMLModel",
            "placeholder": "​",
            "_view_module": "@jupyter-widgets/controls",
            "_model_module_version": "1.5.0",
            "value": "",
            "_view_count": null,
            "_view_module_version": "1.5.0",
            "description_tooltip": null,
            "_model_module": "@jupyter-widgets/controls",
            "layout": "IPY_MODEL_f265db2dbfb04a6d986bfc4e55742005"
          }
        },
        "87e57c4a47f240d09261ff89894de530": {
          "model_module": "@jupyter-widgets/controls",
          "model_name": "FloatProgressModel",
          "model_module_version": "1.5.0",
          "state": {
            "_view_name": "ProgressView",
            "style": "IPY_MODEL_c5b22483f9a74f7fae098bbc9ca8a72d",
            "_dom_classes": [],
            "description": "",
            "_model_name": "FloatProgressModel",
            "bar_style": "success",
            "max": 9912422,
            "_view_module": "@jupyter-widgets/controls",
            "_model_module_version": "1.5.0",
            "value": 9912422,
            "_view_count": null,
            "_view_module_version": "1.5.0",
            "orientation": "horizontal",
            "min": 0,
            "description_tooltip": null,
            "_model_module": "@jupyter-widgets/controls",
            "layout": "IPY_MODEL_f57080406c1c4fea85d337ebc275a375"
          }
        },
        "837c6bec7d984b2e8fe6f0b59f84bc38": {
          "model_module": "@jupyter-widgets/controls",
          "model_name": "HTMLModel",
          "model_module_version": "1.5.0",
          "state": {
            "_view_name": "HTMLView",
            "style": "IPY_MODEL_4ab1c8ab9803474ca8efaf28bf916dad",
            "_dom_classes": [],
            "description": "",
            "_model_name": "HTMLModel",
            "placeholder": "​",
            "_view_module": "@jupyter-widgets/controls",
            "_model_module_version": "1.5.0",
            "value": " 9913344/? [00:00&lt;00:00, 54941350.26it/s]",
            "_view_count": null,
            "_view_module_version": "1.5.0",
            "description_tooltip": null,
            "_model_module": "@jupyter-widgets/controls",
            "layout": "IPY_MODEL_1dd8270df56a45a5a603ec5b72ed666b"
          }
        },
        "c92aa82e67d34696aa100d3e0d6851de": {
          "model_module": "@jupyter-widgets/controls",
          "model_name": "DescriptionStyleModel",
          "model_module_version": "1.5.0",
          "state": {
            "_view_name": "StyleView",
            "_model_name": "DescriptionStyleModel",
            "description_width": "",
            "_view_module": "@jupyter-widgets/base",
            "_model_module_version": "1.5.0",
            "_view_count": null,
            "_view_module_version": "1.2.0",
            "_model_module": "@jupyter-widgets/controls"
          }
        },
        "f265db2dbfb04a6d986bfc4e55742005": {
          "model_module": "@jupyter-widgets/base",
          "model_name": "LayoutModel",
          "model_module_version": "1.2.0",
          "state": {
            "_view_name": "LayoutView",
            "grid_template_rows": null,
            "right": null,
            "justify_content": null,
            "_view_module": "@jupyter-widgets/base",
            "overflow": null,
            "_model_module_version": "1.2.0",
            "_view_count": null,
            "flex_flow": null,
            "width": null,
            "min_width": null,
            "border": null,
            "align_items": null,
            "bottom": null,
            "_model_module": "@jupyter-widgets/base",
            "top": null,
            "grid_column": null,
            "overflow_y": null,
            "overflow_x": null,
            "grid_auto_flow": null,
            "grid_area": null,
            "grid_template_columns": null,
            "flex": null,
            "_model_name": "LayoutModel",
            "justify_items": null,
            "grid_row": null,
            "max_height": null,
            "align_content": null,
            "visibility": null,
            "align_self": null,
            "height": null,
            "min_height": null,
            "padding": null,
            "grid_auto_rows": null,
            "grid_gap": null,
            "max_width": null,
            "order": null,
            "_view_module_version": "1.2.0",
            "grid_template_areas": null,
            "object_position": null,
            "object_fit": null,
            "grid_auto_columns": null,
            "margin": null,
            "display": null,
            "left": null
          }
        },
        "c5b22483f9a74f7fae098bbc9ca8a72d": {
          "model_module": "@jupyter-widgets/controls",
          "model_name": "ProgressStyleModel",
          "model_module_version": "1.5.0",
          "state": {
            "_view_name": "StyleView",
            "_model_name": "ProgressStyleModel",
            "description_width": "",
            "_view_module": "@jupyter-widgets/base",
            "_model_module_version": "1.5.0",
            "_view_count": null,
            "_view_module_version": "1.2.0",
            "bar_color": null,
            "_model_module": "@jupyter-widgets/controls"
          }
        },
        "f57080406c1c4fea85d337ebc275a375": {
          "model_module": "@jupyter-widgets/base",
          "model_name": "LayoutModel",
          "model_module_version": "1.2.0",
          "state": {
            "_view_name": "LayoutView",
            "grid_template_rows": null,
            "right": null,
            "justify_content": null,
            "_view_module": "@jupyter-widgets/base",
            "overflow": null,
            "_model_module_version": "1.2.0",
            "_view_count": null,
            "flex_flow": null,
            "width": null,
            "min_width": null,
            "border": null,
            "align_items": null,
            "bottom": null,
            "_model_module": "@jupyter-widgets/base",
            "top": null,
            "grid_column": null,
            "overflow_y": null,
            "overflow_x": null,
            "grid_auto_flow": null,
            "grid_area": null,
            "grid_template_columns": null,
            "flex": null,
            "_model_name": "LayoutModel",
            "justify_items": null,
            "grid_row": null,
            "max_height": null,
            "align_content": null,
            "visibility": null,
            "align_self": null,
            "height": null,
            "min_height": null,
            "padding": null,
            "grid_auto_rows": null,
            "grid_gap": null,
            "max_width": null,
            "order": null,
            "_view_module_version": "1.2.0",
            "grid_template_areas": null,
            "object_position": null,
            "object_fit": null,
            "grid_auto_columns": null,
            "margin": null,
            "display": null,
            "left": null
          }
        },
        "4ab1c8ab9803474ca8efaf28bf916dad": {
          "model_module": "@jupyter-widgets/controls",
          "model_name": "DescriptionStyleModel",
          "model_module_version": "1.5.0",
          "state": {
            "_view_name": "StyleView",
            "_model_name": "DescriptionStyleModel",
            "description_width": "",
            "_view_module": "@jupyter-widgets/base",
            "_model_module_version": "1.5.0",
            "_view_count": null,
            "_view_module_version": "1.2.0",
            "_model_module": "@jupyter-widgets/controls"
          }
        },
        "1dd8270df56a45a5a603ec5b72ed666b": {
          "model_module": "@jupyter-widgets/base",
          "model_name": "LayoutModel",
          "model_module_version": "1.2.0",
          "state": {
            "_view_name": "LayoutView",
            "grid_template_rows": null,
            "right": null,
            "justify_content": null,
            "_view_module": "@jupyter-widgets/base",
            "overflow": null,
            "_model_module_version": "1.2.0",
            "_view_count": null,
            "flex_flow": null,
            "width": null,
            "min_width": null,
            "border": null,
            "align_items": null,
            "bottom": null,
            "_model_module": "@jupyter-widgets/base",
            "top": null,
            "grid_column": null,
            "overflow_y": null,
            "overflow_x": null,
            "grid_auto_flow": null,
            "grid_area": null,
            "grid_template_columns": null,
            "flex": null,
            "_model_name": "LayoutModel",
            "justify_items": null,
            "grid_row": null,
            "max_height": null,
            "align_content": null,
            "visibility": null,
            "align_self": null,
            "height": null,
            "min_height": null,
            "padding": null,
            "grid_auto_rows": null,
            "grid_gap": null,
            "max_width": null,
            "order": null,
            "_view_module_version": "1.2.0",
            "grid_template_areas": null,
            "object_position": null,
            "object_fit": null,
            "grid_auto_columns": null,
            "margin": null,
            "display": null,
            "left": null
          }
        },
        "8fb13a7db5fd42e0b0dbc7939a4ac129": {
          "model_module": "@jupyter-widgets/controls",
          "model_name": "HBoxModel",
          "model_module_version": "1.5.0",
          "state": {
            "_view_name": "HBoxView",
            "_dom_classes": [],
            "_model_name": "HBoxModel",
            "_view_module": "@jupyter-widgets/controls",
            "_model_module_version": "1.5.0",
            "_view_count": null,
            "_view_module_version": "1.5.0",
            "box_style": "",
            "layout": "IPY_MODEL_15aef06e5eca47b6b408aa9889db35b7",
            "_model_module": "@jupyter-widgets/controls",
            "children": [
              "IPY_MODEL_07312b17906d49728138d788f5b3e062",
              "IPY_MODEL_edf18def56e34d92887103f4fb646837",
              "IPY_MODEL_1449d69715bd43ad859a08353d0fd83f"
            ]
          }
        },
        "15aef06e5eca47b6b408aa9889db35b7": {
          "model_module": "@jupyter-widgets/base",
          "model_name": "LayoutModel",
          "model_module_version": "1.2.0",
          "state": {
            "_view_name": "LayoutView",
            "grid_template_rows": null,
            "right": null,
            "justify_content": null,
            "_view_module": "@jupyter-widgets/base",
            "overflow": null,
            "_model_module_version": "1.2.0",
            "_view_count": null,
            "flex_flow": null,
            "width": null,
            "min_width": null,
            "border": null,
            "align_items": null,
            "bottom": null,
            "_model_module": "@jupyter-widgets/base",
            "top": null,
            "grid_column": null,
            "overflow_y": null,
            "overflow_x": null,
            "grid_auto_flow": null,
            "grid_area": null,
            "grid_template_columns": null,
            "flex": null,
            "_model_name": "LayoutModel",
            "justify_items": null,
            "grid_row": null,
            "max_height": null,
            "align_content": null,
            "visibility": null,
            "align_self": null,
            "height": null,
            "min_height": null,
            "padding": null,
            "grid_auto_rows": null,
            "grid_gap": null,
            "max_width": null,
            "order": null,
            "_view_module_version": "1.2.0",
            "grid_template_areas": null,
            "object_position": null,
            "object_fit": null,
            "grid_auto_columns": null,
            "margin": null,
            "display": null,
            "left": null
          }
        },
        "07312b17906d49728138d788f5b3e062": {
          "model_module": "@jupyter-widgets/controls",
          "model_name": "HTMLModel",
          "model_module_version": "1.5.0",
          "state": {
            "_view_name": "HTMLView",
            "style": "IPY_MODEL_db0af64e42fb4d0b9edb0c0978850eff",
            "_dom_classes": [],
            "description": "",
            "_model_name": "HTMLModel",
            "placeholder": "​",
            "_view_module": "@jupyter-widgets/controls",
            "_model_module_version": "1.5.0",
            "value": "",
            "_view_count": null,
            "_view_module_version": "1.5.0",
            "description_tooltip": null,
            "_model_module": "@jupyter-widgets/controls",
            "layout": "IPY_MODEL_1414c479219a4c3aa87173946cd67bfb"
          }
        },
        "edf18def56e34d92887103f4fb646837": {
          "model_module": "@jupyter-widgets/controls",
          "model_name": "FloatProgressModel",
          "model_module_version": "1.5.0",
          "state": {
            "_view_name": "ProgressView",
            "style": "IPY_MODEL_b59ac157115f4a2bb381b4418079d42f",
            "_dom_classes": [],
            "description": "",
            "_model_name": "FloatProgressModel",
            "bar_style": "success",
            "max": 28881,
            "_view_module": "@jupyter-widgets/controls",
            "_model_module_version": "1.5.0",
            "value": 28881,
            "_view_count": null,
            "_view_module_version": "1.5.0",
            "orientation": "horizontal",
            "min": 0,
            "description_tooltip": null,
            "_model_module": "@jupyter-widgets/controls",
            "layout": "IPY_MODEL_00f11d671a994deea367e8e0aa28608c"
          }
        },
        "1449d69715bd43ad859a08353d0fd83f": {
          "model_module": "@jupyter-widgets/controls",
          "model_name": "HTMLModel",
          "model_module_version": "1.5.0",
          "state": {
            "_view_name": "HTMLView",
            "style": "IPY_MODEL_a69338e22ba446fba1ac48a81260b224",
            "_dom_classes": [],
            "description": "",
            "_model_name": "HTMLModel",
            "placeholder": "​",
            "_view_module": "@jupyter-widgets/controls",
            "_model_module_version": "1.5.0",
            "value": " 29696/? [00:00&lt;00:00, 492764.26it/s]",
            "_view_count": null,
            "_view_module_version": "1.5.0",
            "description_tooltip": null,
            "_model_module": "@jupyter-widgets/controls",
            "layout": "IPY_MODEL_0edb08336b9547b388b0418f7886da4b"
          }
        },
        "db0af64e42fb4d0b9edb0c0978850eff": {
          "model_module": "@jupyter-widgets/controls",
          "model_name": "DescriptionStyleModel",
          "model_module_version": "1.5.0",
          "state": {
            "_view_name": "StyleView",
            "_model_name": "DescriptionStyleModel",
            "description_width": "",
            "_view_module": "@jupyter-widgets/base",
            "_model_module_version": "1.5.0",
            "_view_count": null,
            "_view_module_version": "1.2.0",
            "_model_module": "@jupyter-widgets/controls"
          }
        },
        "1414c479219a4c3aa87173946cd67bfb": {
          "model_module": "@jupyter-widgets/base",
          "model_name": "LayoutModel",
          "model_module_version": "1.2.0",
          "state": {
            "_view_name": "LayoutView",
            "grid_template_rows": null,
            "right": null,
            "justify_content": null,
            "_view_module": "@jupyter-widgets/base",
            "overflow": null,
            "_model_module_version": "1.2.0",
            "_view_count": null,
            "flex_flow": null,
            "width": null,
            "min_width": null,
            "border": null,
            "align_items": null,
            "bottom": null,
            "_model_module": "@jupyter-widgets/base",
            "top": null,
            "grid_column": null,
            "overflow_y": null,
            "overflow_x": null,
            "grid_auto_flow": null,
            "grid_area": null,
            "grid_template_columns": null,
            "flex": null,
            "_model_name": "LayoutModel",
            "justify_items": null,
            "grid_row": null,
            "max_height": null,
            "align_content": null,
            "visibility": null,
            "align_self": null,
            "height": null,
            "min_height": null,
            "padding": null,
            "grid_auto_rows": null,
            "grid_gap": null,
            "max_width": null,
            "order": null,
            "_view_module_version": "1.2.0",
            "grid_template_areas": null,
            "object_position": null,
            "object_fit": null,
            "grid_auto_columns": null,
            "margin": null,
            "display": null,
            "left": null
          }
        },
        "b59ac157115f4a2bb381b4418079d42f": {
          "model_module": "@jupyter-widgets/controls",
          "model_name": "ProgressStyleModel",
          "model_module_version": "1.5.0",
          "state": {
            "_view_name": "StyleView",
            "_model_name": "ProgressStyleModel",
            "description_width": "",
            "_view_module": "@jupyter-widgets/base",
            "_model_module_version": "1.5.0",
            "_view_count": null,
            "_view_module_version": "1.2.0",
            "bar_color": null,
            "_model_module": "@jupyter-widgets/controls"
          }
        },
        "00f11d671a994deea367e8e0aa28608c": {
          "model_module": "@jupyter-widgets/base",
          "model_name": "LayoutModel",
          "model_module_version": "1.2.0",
          "state": {
            "_view_name": "LayoutView",
            "grid_template_rows": null,
            "right": null,
            "justify_content": null,
            "_view_module": "@jupyter-widgets/base",
            "overflow": null,
            "_model_module_version": "1.2.0",
            "_view_count": null,
            "flex_flow": null,
            "width": null,
            "min_width": null,
            "border": null,
            "align_items": null,
            "bottom": null,
            "_model_module": "@jupyter-widgets/base",
            "top": null,
            "grid_column": null,
            "overflow_y": null,
            "overflow_x": null,
            "grid_auto_flow": null,
            "grid_area": null,
            "grid_template_columns": null,
            "flex": null,
            "_model_name": "LayoutModel",
            "justify_items": null,
            "grid_row": null,
            "max_height": null,
            "align_content": null,
            "visibility": null,
            "align_self": null,
            "height": null,
            "min_height": null,
            "padding": null,
            "grid_auto_rows": null,
            "grid_gap": null,
            "max_width": null,
            "order": null,
            "_view_module_version": "1.2.0",
            "grid_template_areas": null,
            "object_position": null,
            "object_fit": null,
            "grid_auto_columns": null,
            "margin": null,
            "display": null,
            "left": null
          }
        },
        "a69338e22ba446fba1ac48a81260b224": {
          "model_module": "@jupyter-widgets/controls",
          "model_name": "DescriptionStyleModel",
          "model_module_version": "1.5.0",
          "state": {
            "_view_name": "StyleView",
            "_model_name": "DescriptionStyleModel",
            "description_width": "",
            "_view_module": "@jupyter-widgets/base",
            "_model_module_version": "1.5.0",
            "_view_count": null,
            "_view_module_version": "1.2.0",
            "_model_module": "@jupyter-widgets/controls"
          }
        },
        "0edb08336b9547b388b0418f7886da4b": {
          "model_module": "@jupyter-widgets/base",
          "model_name": "LayoutModel",
          "model_module_version": "1.2.0",
          "state": {
            "_view_name": "LayoutView",
            "grid_template_rows": null,
            "right": null,
            "justify_content": null,
            "_view_module": "@jupyter-widgets/base",
            "overflow": null,
            "_model_module_version": "1.2.0",
            "_view_count": null,
            "flex_flow": null,
            "width": null,
            "min_width": null,
            "border": null,
            "align_items": null,
            "bottom": null,
            "_model_module": "@jupyter-widgets/base",
            "top": null,
            "grid_column": null,
            "overflow_y": null,
            "overflow_x": null,
            "grid_auto_flow": null,
            "grid_area": null,
            "grid_template_columns": null,
            "flex": null,
            "_model_name": "LayoutModel",
            "justify_items": null,
            "grid_row": null,
            "max_height": null,
            "align_content": null,
            "visibility": null,
            "align_self": null,
            "height": null,
            "min_height": null,
            "padding": null,
            "grid_auto_rows": null,
            "grid_gap": null,
            "max_width": null,
            "order": null,
            "_view_module_version": "1.2.0",
            "grid_template_areas": null,
            "object_position": null,
            "object_fit": null,
            "grid_auto_columns": null,
            "margin": null,
            "display": null,
            "left": null
          }
        },
        "ea273afc14e643499d6bca79ff043401": {
          "model_module": "@jupyter-widgets/controls",
          "model_name": "HBoxModel",
          "model_module_version": "1.5.0",
          "state": {
            "_view_name": "HBoxView",
            "_dom_classes": [],
            "_model_name": "HBoxModel",
            "_view_module": "@jupyter-widgets/controls",
            "_model_module_version": "1.5.0",
            "_view_count": null,
            "_view_module_version": "1.5.0",
            "box_style": "",
            "layout": "IPY_MODEL_5bd7dcb9eaaa4c94af9b5671777091f5",
            "_model_module": "@jupyter-widgets/controls",
            "children": [
              "IPY_MODEL_e83ec4c8ccf64830876bfb79efd13078",
              "IPY_MODEL_eed750b401ed4a1e96ab847de7e8602e",
              "IPY_MODEL_c80a6e34e0d24a10a1ec8b97fd81d73d"
            ]
          }
        },
        "5bd7dcb9eaaa4c94af9b5671777091f5": {
          "model_module": "@jupyter-widgets/base",
          "model_name": "LayoutModel",
          "model_module_version": "1.2.0",
          "state": {
            "_view_name": "LayoutView",
            "grid_template_rows": null,
            "right": null,
            "justify_content": null,
            "_view_module": "@jupyter-widgets/base",
            "overflow": null,
            "_model_module_version": "1.2.0",
            "_view_count": null,
            "flex_flow": null,
            "width": null,
            "min_width": null,
            "border": null,
            "align_items": null,
            "bottom": null,
            "_model_module": "@jupyter-widgets/base",
            "top": null,
            "grid_column": null,
            "overflow_y": null,
            "overflow_x": null,
            "grid_auto_flow": null,
            "grid_area": null,
            "grid_template_columns": null,
            "flex": null,
            "_model_name": "LayoutModel",
            "justify_items": null,
            "grid_row": null,
            "max_height": null,
            "align_content": null,
            "visibility": null,
            "align_self": null,
            "height": null,
            "min_height": null,
            "padding": null,
            "grid_auto_rows": null,
            "grid_gap": null,
            "max_width": null,
            "order": null,
            "_view_module_version": "1.2.0",
            "grid_template_areas": null,
            "object_position": null,
            "object_fit": null,
            "grid_auto_columns": null,
            "margin": null,
            "display": null,
            "left": null
          }
        },
        "e83ec4c8ccf64830876bfb79efd13078": {
          "model_module": "@jupyter-widgets/controls",
          "model_name": "HTMLModel",
          "model_module_version": "1.5.0",
          "state": {
            "_view_name": "HTMLView",
            "style": "IPY_MODEL_19ee492eac8d44d2b952934dbd5a4a00",
            "_dom_classes": [],
            "description": "",
            "_model_name": "HTMLModel",
            "placeholder": "​",
            "_view_module": "@jupyter-widgets/controls",
            "_model_module_version": "1.5.0",
            "value": "",
            "_view_count": null,
            "_view_module_version": "1.5.0",
            "description_tooltip": null,
            "_model_module": "@jupyter-widgets/controls",
            "layout": "IPY_MODEL_b3321c12027a48b29955ea312382fcc0"
          }
        },
        "eed750b401ed4a1e96ab847de7e8602e": {
          "model_module": "@jupyter-widgets/controls",
          "model_name": "FloatProgressModel",
          "model_module_version": "1.5.0",
          "state": {
            "_view_name": "ProgressView",
            "style": "IPY_MODEL_da1967cc4be546bca76a0ed82d2b25be",
            "_dom_classes": [],
            "description": "",
            "_model_name": "FloatProgressModel",
            "bar_style": "success",
            "max": 1648877,
            "_view_module": "@jupyter-widgets/controls",
            "_model_module_version": "1.5.0",
            "value": 1648877,
            "_view_count": null,
            "_view_module_version": "1.5.0",
            "orientation": "horizontal",
            "min": 0,
            "description_tooltip": null,
            "_model_module": "@jupyter-widgets/controls",
            "layout": "IPY_MODEL_d6a1029ce22b4fc09abac0ab797fcfd3"
          }
        },
        "c80a6e34e0d24a10a1ec8b97fd81d73d": {
          "model_module": "@jupyter-widgets/controls",
          "model_name": "HTMLModel",
          "model_module_version": "1.5.0",
          "state": {
            "_view_name": "HTMLView",
            "style": "IPY_MODEL_a8131510e751436abe4de629126a5382",
            "_dom_classes": [],
            "description": "",
            "_model_name": "HTMLModel",
            "placeholder": "​",
            "_view_module": "@jupyter-widgets/controls",
            "_model_module_version": "1.5.0",
            "value": " 1649664/? [00:00&lt;00:00, 7190293.07it/s]",
            "_view_count": null,
            "_view_module_version": "1.5.0",
            "description_tooltip": null,
            "_model_module": "@jupyter-widgets/controls",
            "layout": "IPY_MODEL_4a8ad69004c54dc7b8c78aef9bd8cf59"
          }
        },
        "19ee492eac8d44d2b952934dbd5a4a00": {
          "model_module": "@jupyter-widgets/controls",
          "model_name": "DescriptionStyleModel",
          "model_module_version": "1.5.0",
          "state": {
            "_view_name": "StyleView",
            "_model_name": "DescriptionStyleModel",
            "description_width": "",
            "_view_module": "@jupyter-widgets/base",
            "_model_module_version": "1.5.0",
            "_view_count": null,
            "_view_module_version": "1.2.0",
            "_model_module": "@jupyter-widgets/controls"
          }
        },
        "b3321c12027a48b29955ea312382fcc0": {
          "model_module": "@jupyter-widgets/base",
          "model_name": "LayoutModel",
          "model_module_version": "1.2.0",
          "state": {
            "_view_name": "LayoutView",
            "grid_template_rows": null,
            "right": null,
            "justify_content": null,
            "_view_module": "@jupyter-widgets/base",
            "overflow": null,
            "_model_module_version": "1.2.0",
            "_view_count": null,
            "flex_flow": null,
            "width": null,
            "min_width": null,
            "border": null,
            "align_items": null,
            "bottom": null,
            "_model_module": "@jupyter-widgets/base",
            "top": null,
            "grid_column": null,
            "overflow_y": null,
            "overflow_x": null,
            "grid_auto_flow": null,
            "grid_area": null,
            "grid_template_columns": null,
            "flex": null,
            "_model_name": "LayoutModel",
            "justify_items": null,
            "grid_row": null,
            "max_height": null,
            "align_content": null,
            "visibility": null,
            "align_self": null,
            "height": null,
            "min_height": null,
            "padding": null,
            "grid_auto_rows": null,
            "grid_gap": null,
            "max_width": null,
            "order": null,
            "_view_module_version": "1.2.0",
            "grid_template_areas": null,
            "object_position": null,
            "object_fit": null,
            "grid_auto_columns": null,
            "margin": null,
            "display": null,
            "left": null
          }
        },
        "da1967cc4be546bca76a0ed82d2b25be": {
          "model_module": "@jupyter-widgets/controls",
          "model_name": "ProgressStyleModel",
          "model_module_version": "1.5.0",
          "state": {
            "_view_name": "StyleView",
            "_model_name": "ProgressStyleModel",
            "description_width": "",
            "_view_module": "@jupyter-widgets/base",
            "_model_module_version": "1.5.0",
            "_view_count": null,
            "_view_module_version": "1.2.0",
            "bar_color": null,
            "_model_module": "@jupyter-widgets/controls"
          }
        },
        "d6a1029ce22b4fc09abac0ab797fcfd3": {
          "model_module": "@jupyter-widgets/base",
          "model_name": "LayoutModel",
          "model_module_version": "1.2.0",
          "state": {
            "_view_name": "LayoutView",
            "grid_template_rows": null,
            "right": null,
            "justify_content": null,
            "_view_module": "@jupyter-widgets/base",
            "overflow": null,
            "_model_module_version": "1.2.0",
            "_view_count": null,
            "flex_flow": null,
            "width": null,
            "min_width": null,
            "border": null,
            "align_items": null,
            "bottom": null,
            "_model_module": "@jupyter-widgets/base",
            "top": null,
            "grid_column": null,
            "overflow_y": null,
            "overflow_x": null,
            "grid_auto_flow": null,
            "grid_area": null,
            "grid_template_columns": null,
            "flex": null,
            "_model_name": "LayoutModel",
            "justify_items": null,
            "grid_row": null,
            "max_height": null,
            "align_content": null,
            "visibility": null,
            "align_self": null,
            "height": null,
            "min_height": null,
            "padding": null,
            "grid_auto_rows": null,
            "grid_gap": null,
            "max_width": null,
            "order": null,
            "_view_module_version": "1.2.0",
            "grid_template_areas": null,
            "object_position": null,
            "object_fit": null,
            "grid_auto_columns": null,
            "margin": null,
            "display": null,
            "left": null
          }
        },
        "a8131510e751436abe4de629126a5382": {
          "model_module": "@jupyter-widgets/controls",
          "model_name": "DescriptionStyleModel",
          "model_module_version": "1.5.0",
          "state": {
            "_view_name": "StyleView",
            "_model_name": "DescriptionStyleModel",
            "description_width": "",
            "_view_module": "@jupyter-widgets/base",
            "_model_module_version": "1.5.0",
            "_view_count": null,
            "_view_module_version": "1.2.0",
            "_model_module": "@jupyter-widgets/controls"
          }
        },
        "4a8ad69004c54dc7b8c78aef9bd8cf59": {
          "model_module": "@jupyter-widgets/base",
          "model_name": "LayoutModel",
          "model_module_version": "1.2.0",
          "state": {
            "_view_name": "LayoutView",
            "grid_template_rows": null,
            "right": null,
            "justify_content": null,
            "_view_module": "@jupyter-widgets/base",
            "overflow": null,
            "_model_module_version": "1.2.0",
            "_view_count": null,
            "flex_flow": null,
            "width": null,
            "min_width": null,
            "border": null,
            "align_items": null,
            "bottom": null,
            "_model_module": "@jupyter-widgets/base",
            "top": null,
            "grid_column": null,
            "overflow_y": null,
            "overflow_x": null,
            "grid_auto_flow": null,
            "grid_area": null,
            "grid_template_columns": null,
            "flex": null,
            "_model_name": "LayoutModel",
            "justify_items": null,
            "grid_row": null,
            "max_height": null,
            "align_content": null,
            "visibility": null,
            "align_self": null,
            "height": null,
            "min_height": null,
            "padding": null,
            "grid_auto_rows": null,
            "grid_gap": null,
            "max_width": null,
            "order": null,
            "_view_module_version": "1.2.0",
            "grid_template_areas": null,
            "object_position": null,
            "object_fit": null,
            "grid_auto_columns": null,
            "margin": null,
            "display": null,
            "left": null
          }
        },
        "778111f977b64c4885de3fadb0669fd0": {
          "model_module": "@jupyter-widgets/controls",
          "model_name": "HBoxModel",
          "model_module_version": "1.5.0",
          "state": {
            "_view_name": "HBoxView",
            "_dom_classes": [],
            "_model_name": "HBoxModel",
            "_view_module": "@jupyter-widgets/controls",
            "_model_module_version": "1.5.0",
            "_view_count": null,
            "_view_module_version": "1.5.0",
            "box_style": "",
            "layout": "IPY_MODEL_68dc73296e094ea6b4bef833a946245a",
            "_model_module": "@jupyter-widgets/controls",
            "children": [
              "IPY_MODEL_60f55716692142a09032dc6175cf365e",
              "IPY_MODEL_cb5944d519074bcf96c674cd2e508045",
              "IPY_MODEL_7306e49d3bec4778a18e596f5b566355"
            ]
          }
        },
        "68dc73296e094ea6b4bef833a946245a": {
          "model_module": "@jupyter-widgets/base",
          "model_name": "LayoutModel",
          "model_module_version": "1.2.0",
          "state": {
            "_view_name": "LayoutView",
            "grid_template_rows": null,
            "right": null,
            "justify_content": null,
            "_view_module": "@jupyter-widgets/base",
            "overflow": null,
            "_model_module_version": "1.2.0",
            "_view_count": null,
            "flex_flow": null,
            "width": null,
            "min_width": null,
            "border": null,
            "align_items": null,
            "bottom": null,
            "_model_module": "@jupyter-widgets/base",
            "top": null,
            "grid_column": null,
            "overflow_y": null,
            "overflow_x": null,
            "grid_auto_flow": null,
            "grid_area": null,
            "grid_template_columns": null,
            "flex": null,
            "_model_name": "LayoutModel",
            "justify_items": null,
            "grid_row": null,
            "max_height": null,
            "align_content": null,
            "visibility": null,
            "align_self": null,
            "height": null,
            "min_height": null,
            "padding": null,
            "grid_auto_rows": null,
            "grid_gap": null,
            "max_width": null,
            "order": null,
            "_view_module_version": "1.2.0",
            "grid_template_areas": null,
            "object_position": null,
            "object_fit": null,
            "grid_auto_columns": null,
            "margin": null,
            "display": null,
            "left": null
          }
        },
        "60f55716692142a09032dc6175cf365e": {
          "model_module": "@jupyter-widgets/controls",
          "model_name": "HTMLModel",
          "model_module_version": "1.5.0",
          "state": {
            "_view_name": "HTMLView",
            "style": "IPY_MODEL_522f2544d71e47928ec26b4049020cb0",
            "_dom_classes": [],
            "description": "",
            "_model_name": "HTMLModel",
            "placeholder": "​",
            "_view_module": "@jupyter-widgets/controls",
            "_model_module_version": "1.5.0",
            "value": "",
            "_view_count": null,
            "_view_module_version": "1.5.0",
            "description_tooltip": null,
            "_model_module": "@jupyter-widgets/controls",
            "layout": "IPY_MODEL_b8078334d7c24e2593d9b1f2b799d5c1"
          }
        },
        "cb5944d519074bcf96c674cd2e508045": {
          "model_module": "@jupyter-widgets/controls",
          "model_name": "FloatProgressModel",
          "model_module_version": "1.5.0",
          "state": {
            "_view_name": "ProgressView",
            "style": "IPY_MODEL_1e759059f15b405198f6b618d6a5cb9d",
            "_dom_classes": [],
            "description": "",
            "_model_name": "FloatProgressModel",
            "bar_style": "success",
            "max": 4542,
            "_view_module": "@jupyter-widgets/controls",
            "_model_module_version": "1.5.0",
            "value": 4542,
            "_view_count": null,
            "_view_module_version": "1.5.0",
            "orientation": "horizontal",
            "min": 0,
            "description_tooltip": null,
            "_model_module": "@jupyter-widgets/controls",
            "layout": "IPY_MODEL_5223e112b3724858b7ab70b7df67f33a"
          }
        },
        "7306e49d3bec4778a18e596f5b566355": {
          "model_module": "@jupyter-widgets/controls",
          "model_name": "HTMLModel",
          "model_module_version": "1.5.0",
          "state": {
            "_view_name": "HTMLView",
            "style": "IPY_MODEL_6ddb35cddf884757805defaeda379b58",
            "_dom_classes": [],
            "description": "",
            "_model_name": "HTMLModel",
            "placeholder": "​",
            "_view_module": "@jupyter-widgets/controls",
            "_model_module_version": "1.5.0",
            "value": " 5120/? [00:00&lt;00:00, 87032.86it/s]",
            "_view_count": null,
            "_view_module_version": "1.5.0",
            "description_tooltip": null,
            "_model_module": "@jupyter-widgets/controls",
            "layout": "IPY_MODEL_6875ff79ad7e4981ad686a6e4d792d47"
          }
        },
        "522f2544d71e47928ec26b4049020cb0": {
          "model_module": "@jupyter-widgets/controls",
          "model_name": "DescriptionStyleModel",
          "model_module_version": "1.5.0",
          "state": {
            "_view_name": "StyleView",
            "_model_name": "DescriptionStyleModel",
            "description_width": "",
            "_view_module": "@jupyter-widgets/base",
            "_model_module_version": "1.5.0",
            "_view_count": null,
            "_view_module_version": "1.2.0",
            "_model_module": "@jupyter-widgets/controls"
          }
        },
        "b8078334d7c24e2593d9b1f2b799d5c1": {
          "model_module": "@jupyter-widgets/base",
          "model_name": "LayoutModel",
          "model_module_version": "1.2.0",
          "state": {
            "_view_name": "LayoutView",
            "grid_template_rows": null,
            "right": null,
            "justify_content": null,
            "_view_module": "@jupyter-widgets/base",
            "overflow": null,
            "_model_module_version": "1.2.0",
            "_view_count": null,
            "flex_flow": null,
            "width": null,
            "min_width": null,
            "border": null,
            "align_items": null,
            "bottom": null,
            "_model_module": "@jupyter-widgets/base",
            "top": null,
            "grid_column": null,
            "overflow_y": null,
            "overflow_x": null,
            "grid_auto_flow": null,
            "grid_area": null,
            "grid_template_columns": null,
            "flex": null,
            "_model_name": "LayoutModel",
            "justify_items": null,
            "grid_row": null,
            "max_height": null,
            "align_content": null,
            "visibility": null,
            "align_self": null,
            "height": null,
            "min_height": null,
            "padding": null,
            "grid_auto_rows": null,
            "grid_gap": null,
            "max_width": null,
            "order": null,
            "_view_module_version": "1.2.0",
            "grid_template_areas": null,
            "object_position": null,
            "object_fit": null,
            "grid_auto_columns": null,
            "margin": null,
            "display": null,
            "left": null
          }
        },
        "1e759059f15b405198f6b618d6a5cb9d": {
          "model_module": "@jupyter-widgets/controls",
          "model_name": "ProgressStyleModel",
          "model_module_version": "1.5.0",
          "state": {
            "_view_name": "StyleView",
            "_model_name": "ProgressStyleModel",
            "description_width": "",
            "_view_module": "@jupyter-widgets/base",
            "_model_module_version": "1.5.0",
            "_view_count": null,
            "_view_module_version": "1.2.0",
            "bar_color": null,
            "_model_module": "@jupyter-widgets/controls"
          }
        },
        "5223e112b3724858b7ab70b7df67f33a": {
          "model_module": "@jupyter-widgets/base",
          "model_name": "LayoutModel",
          "model_module_version": "1.2.0",
          "state": {
            "_view_name": "LayoutView",
            "grid_template_rows": null,
            "right": null,
            "justify_content": null,
            "_view_module": "@jupyter-widgets/base",
            "overflow": null,
            "_model_module_version": "1.2.0",
            "_view_count": null,
            "flex_flow": null,
            "width": null,
            "min_width": null,
            "border": null,
            "align_items": null,
            "bottom": null,
            "_model_module": "@jupyter-widgets/base",
            "top": null,
            "grid_column": null,
            "overflow_y": null,
            "overflow_x": null,
            "grid_auto_flow": null,
            "grid_area": null,
            "grid_template_columns": null,
            "flex": null,
            "_model_name": "LayoutModel",
            "justify_items": null,
            "grid_row": null,
            "max_height": null,
            "align_content": null,
            "visibility": null,
            "align_self": null,
            "height": null,
            "min_height": null,
            "padding": null,
            "grid_auto_rows": null,
            "grid_gap": null,
            "max_width": null,
            "order": null,
            "_view_module_version": "1.2.0",
            "grid_template_areas": null,
            "object_position": null,
            "object_fit": null,
            "grid_auto_columns": null,
            "margin": null,
            "display": null,
            "left": null
          }
        },
        "6ddb35cddf884757805defaeda379b58": {
          "model_module": "@jupyter-widgets/controls",
          "model_name": "DescriptionStyleModel",
          "model_module_version": "1.5.0",
          "state": {
            "_view_name": "StyleView",
            "_model_name": "DescriptionStyleModel",
            "description_width": "",
            "_view_module": "@jupyter-widgets/base",
            "_model_module_version": "1.5.0",
            "_view_count": null,
            "_view_module_version": "1.2.0",
            "_model_module": "@jupyter-widgets/controls"
          }
        },
        "6875ff79ad7e4981ad686a6e4d792d47": {
          "model_module": "@jupyter-widgets/base",
          "model_name": "LayoutModel",
          "model_module_version": "1.2.0",
          "state": {
            "_view_name": "LayoutView",
            "grid_template_rows": null,
            "right": null,
            "justify_content": null,
            "_view_module": "@jupyter-widgets/base",
            "overflow": null,
            "_model_module_version": "1.2.0",
            "_view_count": null,
            "flex_flow": null,
            "width": null,
            "min_width": null,
            "border": null,
            "align_items": null,
            "bottom": null,
            "_model_module": "@jupyter-widgets/base",
            "top": null,
            "grid_column": null,
            "overflow_y": null,
            "overflow_x": null,
            "grid_auto_flow": null,
            "grid_area": null,
            "grid_template_columns": null,
            "flex": null,
            "_model_name": "LayoutModel",
            "justify_items": null,
            "grid_row": null,
            "max_height": null,
            "align_content": null,
            "visibility": null,
            "align_self": null,
            "height": null,
            "min_height": null,
            "padding": null,
            "grid_auto_rows": null,
            "grid_gap": null,
            "max_width": null,
            "order": null,
            "_view_module_version": "1.2.0",
            "grid_template_areas": null,
            "object_position": null,
            "object_fit": null,
            "grid_auto_columns": null,
            "margin": null,
            "display": null,
            "left": null
          }
        }
      }
    }
  },
  "cells": [
    {
      "cell_type": "markdown",
      "metadata": {
        "id": "166SjiL5wgQ6"
      },
      "source": [
        "# Part 1 \n",
        "\n",
        "We first try and create a simple MLP and see how it performs on the CIFAR dataset, after which we shall compare it with a modified MLP with simple skip connections.\n",
        "\n"
      ]
    },
    {
      "cell_type": "code",
      "metadata": {
        "id": "RMXssXghv1vj"
      },
      "source": [
        "#importing the required modules\n",
        "import torch\n",
        "import torch.nn as nn\n",
        "from torch.autograd import Variable\n",
        "import torchvision.transforms as transforms\n",
        "import torchvision.datasets as dsets\n",
        "import torch.nn.functional as F\n",
        "from torch.utils.data import random_split\n",
        "import numpy as np"
      ],
      "execution_count": null,
      "outputs": []
    },
    {
      "cell_type": "code",
      "metadata": {
        "id": "HUvhADX_wKUj",
        "colab": {
          "base_uri": "https://localhost:8080/",
          "height": 533,
          "referenced_widgets": [
            "78be4906d5e04c9f9dff65ab94620d2e",
            "5ea583c0117f42a496fb0faf0e8df3cd",
            "da4c9361b4ec46b7b8ea3ce37cd2777c",
            "3f6a22ddf47540278617ce030d83b922",
            "b2afeec0182c43b6acb6291bd368ec94",
            "fd44a3ec12e846e6a6e0ccb79fe8a6ef",
            "ae4f5deb9f5541388563cfca7cd8a2c9",
            "fd66185f18904badb8850b0b18a8623b",
            "6905c94c71504b5ab177d4fcb7584a92",
            "d8e5f632115e4697b523b60245fb4e4f",
            "5aad9ef0632c493bbbf3300fbd823afb",
            "15e4cb76dd184f04ac6b1aa115c91709",
            "31bb66dc712948de9748691731e75223",
            "18fd3438ec73474d8a398d5cdf98340a",
            "87e57c4a47f240d09261ff89894de530",
            "837c6bec7d984b2e8fe6f0b59f84bc38",
            "c92aa82e67d34696aa100d3e0d6851de",
            "f265db2dbfb04a6d986bfc4e55742005",
            "c5b22483f9a74f7fae098bbc9ca8a72d",
            "f57080406c1c4fea85d337ebc275a375",
            "4ab1c8ab9803474ca8efaf28bf916dad",
            "1dd8270df56a45a5a603ec5b72ed666b",
            "8fb13a7db5fd42e0b0dbc7939a4ac129",
            "15aef06e5eca47b6b408aa9889db35b7",
            "07312b17906d49728138d788f5b3e062",
            "edf18def56e34d92887103f4fb646837",
            "1449d69715bd43ad859a08353d0fd83f",
            "db0af64e42fb4d0b9edb0c0978850eff",
            "1414c479219a4c3aa87173946cd67bfb",
            "b59ac157115f4a2bb381b4418079d42f",
            "00f11d671a994deea367e8e0aa28608c",
            "a69338e22ba446fba1ac48a81260b224",
            "0edb08336b9547b388b0418f7886da4b",
            "ea273afc14e643499d6bca79ff043401",
            "5bd7dcb9eaaa4c94af9b5671777091f5",
            "e83ec4c8ccf64830876bfb79efd13078",
            "eed750b401ed4a1e96ab847de7e8602e",
            "c80a6e34e0d24a10a1ec8b97fd81d73d",
            "19ee492eac8d44d2b952934dbd5a4a00",
            "b3321c12027a48b29955ea312382fcc0",
            "da1967cc4be546bca76a0ed82d2b25be",
            "d6a1029ce22b4fc09abac0ab797fcfd3",
            "a8131510e751436abe4de629126a5382",
            "4a8ad69004c54dc7b8c78aef9bd8cf59",
            "778111f977b64c4885de3fadb0669fd0",
            "68dc73296e094ea6b4bef833a946245a",
            "60f55716692142a09032dc6175cf365e",
            "cb5944d519074bcf96c674cd2e508045",
            "7306e49d3bec4778a18e596f5b566355",
            "522f2544d71e47928ec26b4049020cb0",
            "b8078334d7c24e2593d9b1f2b799d5c1",
            "1e759059f15b405198f6b618d6a5cb9d",
            "5223e112b3724858b7ab70b7df67f33a",
            "6ddb35cddf884757805defaeda379b58",
            "6875ff79ad7e4981ad686a6e4d792d47"
          ]
        },
        "outputId": "6e052df1-6ac2-46bf-d816-a01cd5f91c43"
      },
      "source": [
        "train_dataset_CIFAR = dsets.CIFAR10(root = './',train = True, transform = transforms.ToTensor(),download = True)\n",
        "train_dataset_MNIST = dsets.MNIST(root = './',train = True, transform = transforms.ToTensor(),download = True)"
      ],
      "execution_count": null,
      "outputs": [
        {
          "output_type": "stream",
          "name": "stdout",
          "text": [
            "Downloading https://www.cs.toronto.edu/~kriz/cifar-10-python.tar.gz to ./cifar-10-python.tar.gz\n"
          ]
        },
        {
          "output_type": "display_data",
          "data": {
            "application/vnd.jupyter.widget-view+json": {
              "model_id": "78be4906d5e04c9f9dff65ab94620d2e",
              "version_minor": 0,
              "version_major": 2
            },
            "text/plain": [
              "  0%|          | 0/170498071 [00:00<?, ?it/s]"
            ]
          },
          "metadata": {}
        },
        {
          "output_type": "stream",
          "name": "stdout",
          "text": [
            "Extracting ./cifar-10-python.tar.gz to ./\n",
            "Downloading http://yann.lecun.com/exdb/mnist/train-images-idx3-ubyte.gz\n",
            "Downloading http://yann.lecun.com/exdb/mnist/train-images-idx3-ubyte.gz to ./MNIST/raw/train-images-idx3-ubyte.gz\n"
          ]
        },
        {
          "output_type": "display_data",
          "data": {
            "application/vnd.jupyter.widget-view+json": {
              "model_id": "15e4cb76dd184f04ac6b1aa115c91709",
              "version_minor": 0,
              "version_major": 2
            },
            "text/plain": [
              "  0%|          | 0/9912422 [00:00<?, ?it/s]"
            ]
          },
          "metadata": {}
        },
        {
          "output_type": "stream",
          "name": "stdout",
          "text": [
            "Extracting ./MNIST/raw/train-images-idx3-ubyte.gz to ./MNIST/raw\n",
            "\n",
            "Downloading http://yann.lecun.com/exdb/mnist/train-labels-idx1-ubyte.gz\n",
            "Downloading http://yann.lecun.com/exdb/mnist/train-labels-idx1-ubyte.gz to ./MNIST/raw/train-labels-idx1-ubyte.gz\n"
          ]
        },
        {
          "output_type": "display_data",
          "data": {
            "application/vnd.jupyter.widget-view+json": {
              "model_id": "8fb13a7db5fd42e0b0dbc7939a4ac129",
              "version_minor": 0,
              "version_major": 2
            },
            "text/plain": [
              "  0%|          | 0/28881 [00:00<?, ?it/s]"
            ]
          },
          "metadata": {}
        },
        {
          "output_type": "stream",
          "name": "stdout",
          "text": [
            "Extracting ./MNIST/raw/train-labels-idx1-ubyte.gz to ./MNIST/raw\n",
            "\n",
            "Downloading http://yann.lecun.com/exdb/mnist/t10k-images-idx3-ubyte.gz\n",
            "Downloading http://yann.lecun.com/exdb/mnist/t10k-images-idx3-ubyte.gz to ./MNIST/raw/t10k-images-idx3-ubyte.gz\n"
          ]
        },
        {
          "output_type": "display_data",
          "data": {
            "application/vnd.jupyter.widget-view+json": {
              "model_id": "ea273afc14e643499d6bca79ff043401",
              "version_minor": 0,
              "version_major": 2
            },
            "text/plain": [
              "  0%|          | 0/1648877 [00:00<?, ?it/s]"
            ]
          },
          "metadata": {}
        },
        {
          "output_type": "stream",
          "name": "stdout",
          "text": [
            "Extracting ./MNIST/raw/t10k-images-idx3-ubyte.gz to ./MNIST/raw\n",
            "\n",
            "Downloading http://yann.lecun.com/exdb/mnist/t10k-labels-idx1-ubyte.gz\n",
            "Downloading http://yann.lecun.com/exdb/mnist/t10k-labels-idx1-ubyte.gz to ./MNIST/raw/t10k-labels-idx1-ubyte.gz\n"
          ]
        },
        {
          "output_type": "display_data",
          "data": {
            "application/vnd.jupyter.widget-view+json": {
              "model_id": "778111f977b64c4885de3fadb0669fd0",
              "version_minor": 0,
              "version_major": 2
            },
            "text/plain": [
              "  0%|          | 0/4542 [00:00<?, ?it/s]"
            ]
          },
          "metadata": {}
        },
        {
          "output_type": "stream",
          "name": "stdout",
          "text": [
            "Extracting ./MNIST/raw/t10k-labels-idx1-ubyte.gz to ./MNIST/raw\n",
            "\n"
          ]
        },
        {
          "output_type": "stream",
          "name": "stderr",
          "text": [
            "/usr/local/lib/python3.7/dist-packages/torchvision/datasets/mnist.py:498: UserWarning: The given NumPy array is not writeable, and PyTorch does not support non-writeable tensors. This means you can write to the underlying (supposedly non-writeable) NumPy array using the tensor. You may want to copy the array to protect its data or make it writeable before converting it to a tensor. This type of warning will be suppressed for the rest of this program. (Triggered internally at  /pytorch/torch/csrc/utils/tensor_numpy.cpp:180.)\n",
            "  return torch.from_numpy(parsed.astype(m[2], copy=False)).view(*s)\n"
          ]
        }
      ]
    },
    {
      "cell_type": "code",
      "metadata": {
        "id": "FDTvZRHGxN2Z",
        "colab": {
          "base_uri": "https://localhost:8080/"
        },
        "outputId": "e0179786-9aba-4c55-ea59-404ee01cb545"
      },
      "source": [
        "test_dataset_CIFAR = dsets.CIFAR10(root = './',train = False , transform = transforms.ToTensor(),download = True)\n",
        "test_dataset_MNIST = dsets.MNIST(root = './',train = False , transform = transforms.ToTensor(),download = True)"
      ],
      "execution_count": null,
      "outputs": [
        {
          "output_type": "stream",
          "name": "stdout",
          "text": [
            "Files already downloaded and verified\n"
          ]
        }
      ]
    },
    {
      "cell_type": "code",
      "metadata": {
        "id": "zw0JC8EcZdf1"
      },
      "source": [
        "#we split the training data into training and validation set\n",
        "torch.manual_seed(43)\n",
        "val_size = 5000\n",
        "\n",
        "train_size_CIFAR = len(train_dataset_CIFAR) - val_size\n",
        "train_size_MNIST = len(train_dataset_MNIST) - val_size\n",
        "\n",
        "train_dataset_CIFAR, val_dataset_CIFAR = random_split(train_dataset_CIFAR, [train_size_CIFAR, val_size])\n",
        "train_dataset_MNIST,val_dataset_MNIST =  random_split(train_dataset_MNIST, [train_size_MNIST, val_size])"
      ],
      "execution_count": null,
      "outputs": []
    },
    {
      "cell_type": "code",
      "metadata": {
        "colab": {
          "base_uri": "https://localhost:8080/"
        },
        "id": "2VdC9IWwxiIN",
        "outputId": "e06ef0de-101b-40ab-e977-ccf550d88a09"
      },
      "source": [
        "#understanding the dimensions of the data\n",
        "print(train_dataset_CIFAR[0][0].size())\n",
        "print(train_dataset_MNIST[0][1])\n",
        "# we have an imput image given by a 28x28 matrix and a label which in this case is 5"
      ],
      "execution_count": null,
      "outputs": [
        {
          "output_type": "stream",
          "name": "stdout",
          "text": [
            "torch.Size([3, 32, 32])\n",
            "5\n"
          ]
        }
      ]
    },
    {
      "cell_type": "code",
      "metadata": {
        "id": "-Lk9Vm3R3RZK"
      },
      "source": [
        "#we now load segment the data into batches\n",
        "batch_size = 100\n",
        "train_loader_CIFAR = torch.utils.data.DataLoader(dataset = train_dataset_CIFAR,batch_size = batch_size , shuffle = True)\n",
        "test_loader_CIFAR = torch.utils.data.DataLoader(dataset = test_dataset_CIFAR , batch_size = batch_size , shuffle = False)\n",
        "train_loader_MNIST = torch.utils.data.DataLoader(dataset = train_dataset_MNIST,batch_size = batch_size , shuffle = True)\n",
        "test_loader_MNIST = torch.utils.data.DataLoader(dataset = test_dataset_MNIST , batch_size = batch_size , shuffle = False)\n",
        "validation_loader_MNIST = torch.utils.data.DataLoader(dataset = val_dataset_MNIST,batch_size = batch_size , shuffle = True)\n",
        "validation_loader_CIFAR = torch.utils.data.DataLoader(dataset = val_dataset_CIFAR , batch_size = batch_size , shuffle = True)\n"
      ],
      "execution_count": null,
      "outputs": []
    },
    {
      "cell_type": "markdown",
      "metadata": {
        "id": "xcICw_hK4Bip"
      },
      "source": [
        "We now define the class for our MLP, taking a model with two hidden layers"
      ]
    },
    {
      "cell_type": "code",
      "metadata": {
        "id": "LYcQ9xOmzz3y",
        "colab": {
          "base_uri": "https://localhost:8080/"
        },
        "outputId": "8f98a674-068b-4229-9290-a88732ea0aee"
      },
      "source": [
        "device = torch.device(\"cuda:0\" if torch.cuda.is_available() else \"cpu\")\n",
        "print(device)"
      ],
      "execution_count": null,
      "outputs": [
        {
          "output_type": "stream",
          "name": "stdout",
          "text": [
            "cuda:0\n"
          ]
        }
      ]
    },
    {
      "cell_type": "markdown",
      "metadata": {
        "id": "k7DNfXP65yQB"
      },
      "source": [
        "We now create instances of the above models, with 100 neurons in both the hidden layers. We choose cross entropy loss since it is a classification problem"
      ]
    },
    {
      "cell_type": "code",
      "metadata": {
        "id": "uTNNrNGT5D2A"
      },
      "source": [
        "input_CIFAR = 3*32*32\n",
        "input_MNIST = 28*28\n",
        "hidden_dim = 300\n",
        "hidden_dim2 = 300\n",
        "hidden_dim3 = 100\n",
        "\n",
        "output_dim = 10\n",
        "torch.manual_seed(0)\n",
        "model_without_skip_CIFAR = MLP(input_CIFAR, hidden_dim,output_dim)\n",
        "model_with_skip_CIFAR = MLP_with_skip(input_CIFAR, hidden_dim ,output_dim)\n",
        "model_without_skip_MNIST = MLP(input_MNIST, hidden_dim,output_dim)\n",
        "model_with_skip_MNIST = MLP_with_skip(input_MNIST, hidden_dim ,output_dim)  \n",
        "if torch.cuda.is_available():\n",
        "    model_with_skip_CIFAR.to(device)\n",
        "    model_without_skip_CIFAR.to(device)\n",
        "    model_with_skip_MNIST.to(device)\n",
        "    model_without_skip_MNIST.to(device)   "
      ],
      "execution_count": null,
      "outputs": []
    },
    {
      "cell_type": "markdown",
      "metadata": {
        "id": "Ro1d17qJ6BDF"
      },
      "source": [
        "We now create a function to train the model which we can use again later when using the modified model with skip connections."
      ]
    },
    {
      "cell_type": "code",
      "metadata": {
        "id": "DkMaA_OK5Yd8"
      },
      "source": [
        "def train(model,epochs,train_loader,validation_loader,input_size,loss_list,iteration_list):\n",
        "  iter = 0\n",
        "  criterion = nn.CrossEntropyLoss()\n",
        "  learning_rate = 0.1\n",
        "  optimizer = torch.optim.SGD(model.parameters(), lr=learning_rate,weight_decay=1e-5)\n",
        "\n",
        "\n",
        "  for epoch in range(epochs):\n",
        "    for i, (images, labels) in enumerate(train_loader):\n",
        "\n",
        "        images, labels = images.to(device), labels.to(device)\n",
        "\n",
        "        images = images.view(-1, input_size).requires_grad_()\n",
        " \n",
        "        optimizer.zero_grad()\n",
        "        outputs = model(images)\n",
        "        loss = criterion(outputs, labels)\n",
        "        if(iter%10==0):\n",
        "          loss_list.append(loss.item())\n",
        "          iteration_list.append(iter)\n",
        "        #print(loss)\n",
        "        loss.backward()\n",
        "        optimizer.step()\n",
        "        iter += 1\n",
        "        if iter % 500 == 0:\n",
        "            correct = 0\n",
        "            total = 0\n",
        "            for images, labels in validation_loader:\n",
        "                images, labels = images.to(device), labels.to(device)\n",
        "                images = images.view(-1, input_size).requires_grad_()\n",
        "\n",
        "                outputs = model(images)\n",
        "\n",
        "                _, predicted = torch.max(outputs.data, 1)\n",
        "\n",
        "                total += labels.size(0)\n",
        "              \n",
        "                correct += (predicted == labels).sum()\n",
        "\n",
        "            accuracy = 100 * correct.item() / total\n",
        "\n",
        "            print('Iteration: {}. Loss: {}. Accuracy: {}'.format(iter, loss.item(), accuracy))"
      ],
      "execution_count": null,
      "outputs": []
    },
    {
      "cell_type": "markdown",
      "metadata": {
        "id": "jw0ODdH28xDH"
      },
      "source": [
        "We now create a function to test the model"
      ]
    },
    {
      "cell_type": "code",
      "metadata": {
        "id": "ogRPYACB72V4"
      },
      "source": [
        "def test(model,test_loader,input_size):\n",
        "  correct = 0\n",
        "  total = 0\n",
        "  for images,labels in test_loader:\n",
        "    images, labels = images.to(device), labels.to(device)\n",
        "    images = Variable(images.view(-1,input_size))\n",
        "    output = model(images)\n",
        "    _,predicted = torch.max(output.data,1)\n",
        "    total+=labels.size(0)\n",
        "    correct += (predicted==labels).sum()\n",
        "  accuracy = (correct.item()/total)*100\n",
        "  print(\" Test Accuracy = \",accuracy)"
      ],
      "execution_count": null,
      "outputs": []
    },
    {
      "cell_type": "markdown",
      "metadata": {
        "id": "LK07WSu1vX2j"
      },
      "source": [
        "# Part 3\n",
        "We now perform ablation studies on different kinds of skip connections, to see if there is a particular kind that gives the best results. \n",
        "We shall be considering the number of layers skipped.\n"
      ]
    },
    {
      "cell_type": "markdown",
      "metadata": {
        "id": "gP-RMnNL-Vs2"
      },
      "source": [
        "We start by using an MLP with simple addition skips, and we vary the number of layers skipped for each skip connection. Here, we have 3 kinds of models.\n",
        "\n",
        "1.   Two layers skipped.\n",
        "2.   Three layers skipped.\n",
        "3.   Four layers skipped.\n",
        "\n"
      ]
    },
    {
      "cell_type": "code",
      "metadata": {
        "id": "b9GpsBsRdn4F"
      },
      "source": [
        "class MLP_with_two_skips(nn.Module):\n",
        "    def __init__(self, input_dim, hidden_dim, output_dim):\n",
        "        super(MLP_with_two_skips, self).__init__()\n",
        "\n",
        "        self.fc1 = nn.Linear(input_dim, hidden_dim) \n",
        "        self.ReLu = nn.ReLU()\n",
        "        self.fc2 = nn.Linear(hidden_dim, hidden_dim)\n",
        "        self.fc3 = nn.Linear(hidden_dim, hidden_dim)\n",
        "        self.fc4 = nn.Linear(hidden_dim, hidden_dim)\n",
        "        self.fc5 = nn.Linear(hidden_dim, hidden_dim)\n",
        "        self.fc6 = nn.Linear(hidden_dim, hidden_dim)\n",
        "        self.fc7 = nn.Linear(hidden_dim, hidden_dim)\n",
        "        self.fc_final = nn.Linear(hidden_dim,output_dim)\n",
        "\n",
        "    def forward(self, x):\n",
        "       \n",
        "        out = self.fc1(x)\n",
        "        out1 = self.ReLu(out)\n",
        "        out2 = self.fc2(out1)\n",
        "        out3 = self.ReLu(out2)\n",
        "        out4 = self.fc3(out3+out)\n",
        "        out5 = self.ReLu(out4)\n",
        "        out6 = self.fc4(out5+out2)\n",
        "        out7 = self.ReLu(out6)\n",
        "        out8 = self.fc5(out7+out4)\n",
        "        out9 = self.ReLu(out8)\n",
        "        out10 = self.fc6(out9+out6)\n",
        "        out_x = self.ReLu(out10)\n",
        "        out_final = self.fc_final(out_x+out8)\n",
        "        return out_final"
      ],
      "execution_count": null,
      "outputs": []
    },
    {
      "cell_type": "code",
      "metadata": {
        "id": "8HAGJojdiWaa"
      },
      "source": [
        "class MLP_with_three_skips(nn.Module):\n",
        "    def __init__(self, input_dim, hidden_dim, output_dim):\n",
        "        super(MLP_with_three_skips, self).__init__()\n",
        "\n",
        "        self.fc1 = nn.Linear(input_dim, hidden_dim) \n",
        "        self.ReLu = nn.ReLU()\n",
        "        self.fc2 = nn.Linear(hidden_dim, hidden_dim)\n",
        "        self.fc3 = nn.Linear(hidden_dim, hidden_dim)\n",
        "        self.fc4 = nn.Linear(hidden_dim, hidden_dim)\n",
        "        self.fc5 = nn.Linear(hidden_dim, hidden_dim)\n",
        "        self.fc6 = nn.Linear(hidden_dim, hidden_dim)\n",
        "        self.fc7 = nn.Linear(hidden_dim, hidden_dim)\n",
        "        self.fc_final = nn.Linear(hidden_dim,output_dim)\n",
        "\n",
        "    def forward(self, x):\n",
        "       \n",
        "        out = self.fc1(x)\n",
        "        out1 = self.ReLu(out)\n",
        "        out2 = self.fc2(out1)\n",
        "        out3 = self.ReLu(out2)\n",
        "        out4 = self.fc3(out3)\n",
        "        out5 = self.ReLu(out4)\n",
        "        out6 = self.fc4(out5+out)\n",
        "        out7 = self.ReLu(out6)\n",
        "        out8 = self.fc5(out7+out2)\n",
        "        out9 = self.ReLu(out8)\n",
        "        out10 = self.fc6(out9+out4)\n",
        "        out_x = self.ReLu(out10)\n",
        "        out_final = self.fc_final(out_x+out6)\n",
        "        return out_final"
      ],
      "execution_count": null,
      "outputs": []
    },
    {
      "cell_type": "code",
      "metadata": {
        "id": "4YMRzpmvjr7F"
      },
      "source": [
        "class MLP_with_four_skips(nn.Module):\n",
        "    def __init__(self, input_dim, hidden_dim, output_dim):\n",
        "        super(MLP_with_four_skips, self).__init__()\n",
        "\n",
        "        self.fc1 = nn.Linear(input_dim, hidden_dim) \n",
        "        self.ReLu = nn.ReLU()\n",
        "        self.fc2 = nn.Linear(hidden_dim, hidden_dim)\n",
        "        self.fc3 = nn.Linear(hidden_dim, hidden_dim)\n",
        "        self.fc4 = nn.Linear(hidden_dim, hidden_dim)\n",
        "        self.fc5 = nn.Linear(hidden_dim, hidden_dim)\n",
        "        self.fc6 = nn.Linear(hidden_dim, hidden_dim)\n",
        "        self.fc7 = nn.Linear(hidden_dim, hidden_dim)\n",
        "        self.fc_final = nn.Linear(hidden_dim,output_dim)\n",
        "\n",
        "    def forward(self, x):\n",
        "       \n",
        "        out = self.fc1(x)\n",
        "        out1 = self.ReLu(out)\n",
        "        out2 = self.fc2(out1)\n",
        "        out3 = self.ReLu(out2)\n",
        "        out4 = self.fc3(out3)\n",
        "        out5 = self.ReLu(out4)\n",
        "        out6 = self.fc4(out5)\n",
        "        out7 = self.ReLu(out6)\n",
        "        out8 = self.fc5(out7+out)\n",
        "        out9 = self.ReLu(out8)\n",
        "        out10 = self.fc6(out9+out2)\n",
        "        out_x = self.ReLu(out10)\n",
        "        out_final = self.fc_final(out_x+out4)\n",
        "        return out_final"
      ],
      "execution_count": null,
      "outputs": []
    },
    {
      "cell_type": "markdown",
      "metadata": {
        "id": "l0onPCukz0nu"
      },
      "source": [
        "We now create instances of the models and see how they perform."
      ]
    },
    {
      "cell_type": "code",
      "metadata": {
        "id": "vaQFhfyePuxd"
      },
      "source": [
        "model_with_two_skips_CIFAR = MLP_with_two_skips(input_CIFAR,300,10)\n",
        "model_with_three_skips_CIFAR = MLP_with_three_skips(input_CIFAR,300,10)\n",
        "model_with_four_skips_CIFAR = MLP_with_four_skips(input_CIFAR,300,10)\n",
        "model_with_two_skips_MNIST = MLP_with_two_skips(input_MNIST,300,10)\n",
        "model_with_three_skips_MNIST = MLP_with_three_skips(input_MNIST,300,10)\n",
        "model_with_four_skips_MNIST = MLP_with_four_skips(input_MNIST,300,10)\n",
        "\n",
        "if torch.cuda.is_available():\n",
        "  model_with_two_skips_CIFAR.to(device)\n",
        "  model_with_three_skips_CIFAR.to(device)\n",
        "  model_with_four_skips_CIFAR.to(device)\n",
        "  model_with_two_skips_MNIST.to(device)\n",
        "  model_with_three_skips_MNIST.to(device)\n",
        "  model_with_four_skips_MNIST.to(device)"
      ],
      "execution_count": null,
      "outputs": []
    },
    {
      "cell_type": "code",
      "metadata": {
        "id": "Pku46NEm1jf7"
      },
      "source": [
        "loss_model_two_skips = []\n",
        "loss_model_three_skips = []\n",
        "loss_model_four_skips = []\n",
        "iter_list = []"
      ],
      "execution_count": null,
      "outputs": []
    },
    {
      "cell_type": "code",
      "metadata": {
        "colab": {
          "base_uri": "https://localhost:8080/"
        },
        "id": "1IDSQQ8x2EwN",
        "outputId": "c474f725-539c-4f12-d875-ad8fed4d05d5"
      },
      "source": [
        "train(model_with_two_skips_CIFAR,10,train_loader_CIFAR,validation_loader_CIFAR,input_CIFAR,loss_model_two_skips,iter_list)\n",
        "print(\"------------------------\")\n",
        "train(model_with_three_skips_CIFAR,10,train_loader_CIFAR,validation_loader_CIFAR,input_CIFAR,loss_model_three_skips,iter_list)\n",
        "print(\"------------------------\")\n",
        "train(model_with_four_skips_CIFAR,10,train_loader_CIFAR,validation_loader_CIFAR,input_CIFAR,loss_model_four_skips,iter_list)"
      ],
      "execution_count": null,
      "outputs": [
        {
          "output_type": "stream",
          "name": "stdout",
          "text": [
            "Iteration: 500. Loss: 1.89155912399292. Accuracy: 30.08\n",
            "Iteration: 1000. Loss: 1.731510877609253. Accuracy: 34.08\n",
            "Iteration: 1500. Loss: 1.6612547636032104. Accuracy: 35.64\n",
            "Iteration: 2000. Loss: 1.6272283792495728. Accuracy: 38.9\n",
            "Iteration: 2500. Loss: 1.7337608337402344. Accuracy: 38.76\n",
            "Iteration: 3000. Loss: 1.6865075826644897. Accuracy: 39.46\n",
            "Iteration: 3500. Loss: 1.582384467124939. Accuracy: 39.12\n",
            "Iteration: 4000. Loss: 1.3952627182006836. Accuracy: 42.56\n",
            "Iteration: 4500. Loss: 1.5080889463424683. Accuracy: 42.88\n",
            "------------------------\n",
            "Iteration: 500. Loss: 1.9894304275512695. Accuracy: 30.92\n",
            "Iteration: 1000. Loss: 1.778780460357666. Accuracy: 34.44\n",
            "Iteration: 1500. Loss: 1.8312480449676514. Accuracy: 37.34\n",
            "Iteration: 2000. Loss: 1.702754259109497. Accuracy: 38.5\n",
            "Iteration: 2500. Loss: 1.6807018518447876. Accuracy: 38.0\n",
            "Iteration: 3000. Loss: 1.759963035583496. Accuracy: 39.76\n",
            "Iteration: 3500. Loss: 1.697580099105835. Accuracy: 38.5\n",
            "Iteration: 4000. Loss: 1.4591082334518433. Accuracy: 40.28\n",
            "Iteration: 4500. Loss: 1.8215464353561401. Accuracy: 41.0\n",
            "------------------------\n",
            "Iteration: 500. Loss: 1.9402581453323364. Accuracy: 26.5\n",
            "Iteration: 1000. Loss: 1.9023938179016113. Accuracy: 33.12\n",
            "Iteration: 1500. Loss: 1.9659658670425415. Accuracy: 35.78\n",
            "Iteration: 2000. Loss: 1.6893383264541626. Accuracy: 36.84\n",
            "Iteration: 2500. Loss: 1.667646050453186. Accuracy: 37.96\n",
            "Iteration: 3000. Loss: 1.7860270738601685. Accuracy: 39.72\n",
            "Iteration: 3500. Loss: 1.639597773551941. Accuracy: 40.42\n",
            "Iteration: 4000. Loss: 1.6121193170547485. Accuracy: 41.68\n",
            "Iteration: 4500. Loss: 1.5344539880752563. Accuracy: 41.6\n"
          ]
        }
      ]
    },
    {
      "cell_type": "code",
      "metadata": {
        "id": "TlvihQz0wvWJ"
      },
      "source": [
        "import matplotlib.pyplot as plt\n",
        "from matplotlib.pyplot import figure\n",
        "\n",
        "\n",
        "figure(figsize=(20, 10), dpi=80)\n",
        "l1 = np.array(loss_model_two_skips)\n",
        "l2 = np.array(loss_model_three_skips)\n",
        "l3 = np.array(loss_model_four_skips)\n",
        "iter_list = np.arange(367)\n",
        "plt.plot(iter_list,l1,label = \"two skips\")\n",
        "plt.plot(iter_list,l2,label = \"three skips\")\n",
        "plt.plot(iter_list,l3,label = \"four skips\")\n",
        "plt.legend()\n",
        "plt.show()"
      ],
      "execution_count": null,
      "outputs": []
    },
    {
      "cell_type": "code",
      "metadata": {
        "colab": {
          "base_uri": "https://localhost:8080/"
        },
        "id": "RsZhGyPeuipO",
        "outputId": "9076de65-f7a5-4823-e302-84723e9be7dd"
      },
      "source": [
        "train(model_with_two_skips_MNIST,10,train_loader_MNIST,validation_loader_MNIST,input_MNIST,loss_model_two_skips,iter_list)\n",
        "print(\"------------------------\")\n",
        "train(model_with_three_skips_MNIST,10,train_loader_MNIST,validation_loader_MNIST,input_MNIST,loss_model_three_skips,iter_list)\n",
        "print(\"------------------------\")\n",
        "train(model_with_four_skips_MNIST,10,train_loader_MNIST,validation_loader_MNIST,input_MNIST,loss_model_four_skips,iter_list)"
      ],
      "execution_count": null,
      "outputs": [
        {
          "output_type": "stream",
          "name": "stdout",
          "text": [
            "Iteration: 500. Loss: 0.38158661127090454. Accuracy: 91.64\n",
            "Iteration: 1000. Loss: 0.17323654890060425. Accuracy: 94.52\n",
            "Iteration: 1500. Loss: 0.04826570674777031. Accuracy: 96.64\n",
            "Iteration: 2000. Loss: 0.03028981387615204. Accuracy: 96.92\n",
            "Iteration: 2500. Loss: 0.1699572205543518. Accuracy: 96.6\n",
            "Iteration: 3000. Loss: 0.07880134880542755. Accuracy: 97.06\n",
            "Iteration: 3500. Loss: 0.0173676498234272. Accuracy: 97.34\n",
            "Iteration: 4000. Loss: 0.023265844210982323. Accuracy: 97.66\n",
            "Iteration: 4500. Loss: 0.008578334003686905. Accuracy: 97.68\n",
            "Iteration: 5000. Loss: 0.026748590171337128. Accuracy: 97.92\n",
            "Iteration: 5500. Loss: 0.06179072707891464. Accuracy: 98.08\n",
            "------------------------\n",
            "Iteration: 500. Loss: 0.37021687626838684. Accuracy: 91.82\n",
            "Iteration: 1000. Loss: 0.1751583218574524. Accuracy: 94.12\n",
            "Iteration: 1500. Loss: 0.2837388515472412. Accuracy: 95.24\n",
            "Iteration: 2000. Loss: 0.12812691926956177. Accuracy: 96.0\n",
            "Iteration: 2500. Loss: 0.2455073893070221. Accuracy: 95.86\n",
            "Iteration: 3000. Loss: 0.11879029124975204. Accuracy: 97.04\n",
            "Iteration: 3500. Loss: 0.04715728759765625. Accuracy: 96.9\n",
            "Iteration: 4000. Loss: 0.048433467745780945. Accuracy: 97.22\n",
            "Iteration: 4500. Loss: 0.03584544360637665. Accuracy: 97.76\n",
            "Iteration: 5000. Loss: 0.004182309377938509. Accuracy: 97.7\n",
            "Iteration: 5500. Loss: 0.020176254212856293. Accuracy: 97.86\n",
            "------------------------\n",
            "Iteration: 500. Loss: 0.21852828562259674. Accuracy: 92.72\n",
            "Iteration: 1000. Loss: 0.243047833442688. Accuracy: 95.54\n",
            "Iteration: 1500. Loss: 0.21009410917758942. Accuracy: 96.7\n",
            "Iteration: 2000. Loss: 0.10183494538068771. Accuracy: 96.72\n",
            "Iteration: 2500. Loss: 0.07683020830154419. Accuracy: 97.28\n",
            "Iteration: 3000. Loss: 0.054580554366111755. Accuracy: 97.54\n",
            "Iteration: 3500. Loss: 0.01663278602063656. Accuracy: 97.68\n",
            "Iteration: 4000. Loss: 0.012643486261367798. Accuracy: 97.62\n",
            "Iteration: 4500. Loss: 0.017125792801380157. Accuracy: 98.16\n",
            "Iteration: 5000. Loss: 0.008640846237540245. Accuracy: 97.96\n",
            "Iteration: 5500. Loss: 0.02889002300798893. Accuracy: 97.96\n"
          ]
        }
      ]
    },
    {
      "cell_type": "code",
      "metadata": {
        "colab": {
          "base_uri": "https://localhost:8080/",
          "height": 654
        },
        "id": "EavSXeLa18nR",
        "outputId": "f9559672-7055-4051-c111-41b1f5cf8c4f"
      },
      "source": [
        "import matplotlib.pyplot as plt\n",
        "from matplotlib.pyplot import figure\n",
        "\n",
        "\n",
        "figure(figsize=(20, 10), dpi=80)\n",
        "l1 = np.array(loss_model_two_skips)\n",
        "l2 = np.array(loss_model_three_skips)\n",
        "l3 = np.array(loss_model_four_skips)\n",
        "iter_list = np.arange(367)\n",
        "plt.plot(iter_list,l1,label = \"two skips\")\n",
        "plt.plot(iter_list,l2,label = \"three skips\")\n",
        "plt.plot(iter_list,l3,label = \"four skips\")\n",
        "plt.legend()\n",
        "plt.show()"
      ],
      "execution_count": null,
      "outputs": [
        {
          "output_type": "display_data",
          "data": {
            "image/png": "[encoded data removed]",
            "text/plain": [
              "<Figure size 1600x800 with 1 Axes>"
            ]
          },
          "metadata": {
            "needs_background": "light"
          }
        }
      ]
    },
    {
      "cell_type": "code",
      "metadata": {
        "id": "cuK3IdC3DqI6"
      },
      "source": [
        ""
      ],
      "execution_count": null,
      "outputs": []
    }
  ]
}